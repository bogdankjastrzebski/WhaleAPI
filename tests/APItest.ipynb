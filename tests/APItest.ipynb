{
 "cells": [
  {
   "cell_type": "code",
   "execution_count": 1,
   "metadata": {},
   "outputs": [],
   "source": [
    "import requests\n",
    "import time\n",
    "import discord\n",
    "from discord import Webhook, RequestsWebhookAdapter"
   ]
  },
  {
   "cell_type": "markdown",
   "metadata": {},
   "source": [
    "# Transactions"
   ]
  },
  {
   "cell_type": "code",
   "execution_count": 17,
   "metadata": {},
   "outputs": [],
   "source": [
    "class WhaleAlertMessenger():\n",
    "    \"\"\"\n",
    "    WhaleAlertMessenger\n",
    "    \n",
    "    This class gets data from Whale Alert\n",
    "    and in case of update, posts data to a\n",
    "    discord server.\n",
    "    \"\"\"\n",
    "    \n",
    "    def __init__(self,\n",
    "                 api_key='fQnt27Rzvml1Ibh5u5ZDU2LZ3Z5QP8jo',\n",
    "                 min_value=500000,\n",
    "                 sec=60,\n",
    "                 path_transactions=\"https://api.whale-alert.io/v1/transactions\",\n",
    "                 webhook=\"https://discordapp.com/api/webhooks/809567816814428170/MAl1ToluFM1yBk0tww0_alVrx4G86cCAKSQ6t7OC8sWqJDf2qDX3Cjap70C0YBhHsKwo\"):\n",
    "        \"\"\"\n",
    "        WhaleAlertMessenger(api_key, min_value, sec)\n",
    "        \n",
    "        Arguments:\n",
    "        * api_key - api key to whale alert \n",
    "        * min_value - minimal value of transaction in USD\n",
    "        * sec - number of past seconds to check\n",
    "        \"\"\"\n",
    "        \n",
    "        # transations app\n",
    "        self.path_transactions = path_transactions\n",
    "        \n",
    "        # Set of parameters used in requesting\n",
    "        self.api_key = api_key,\n",
    "        self.min_value = str(min_value),\n",
    "        self.sec = sec\n",
    "        \n",
    "        # Discord Hook for posting\n",
    "        self.webhook = Webhook.from_url(\n",
    "            webhook,\n",
    "            adapter=RequestsWebhookAdapter()\n",
    "        )\n",
    "        \n",
    "        # Data repository\n",
    "        self.data = []\n",
    "        \n",
    "    def get(self):\n",
    "        \"\"\"\n",
    "        get()\n",
    "        \n",
    "        get method gets all data from last self.sec seconds from WhaleAlert.\n",
    "        \"\"\"\n",
    "        params = {\n",
    "            'api_key':self.api_key,\n",
    "            'min_value':self.min_value,\n",
    "            'start':str(int(time.time())-self.sec)\n",
    "        }\n",
    "\n",
    "        # get transactions\n",
    "        data = requests.get(self.path_transactions, params=params).json()\n",
    "        \n",
    "        try:\n",
    "            \n",
    "            data = data['transactions']\n",
    "            \n",
    "            # transform and filter transactions\n",
    "            data_new = []\n",
    "            for i in range(len(data)):\n",
    "                if not data[i]['from'].get('owner', None) and data[i]['to'].get('owner', None) and 'unknown' not in data[i]['to']['owner']:\n",
    "                    data[i]['from'] = 'unknown wallet'\n",
    "                    data[i]['to']   = data[i]['to']['owner']\n",
    "                    if data[i]['symbol'] == 'usdc':\n",
    "                        data[i]['symbol'] = 'USDC :printer:'\n",
    "                    else:\n",
    "                        data[i]['symbol'] = data[i]['symbol'].upper()\n",
    "                    data_new.append(data[i])\n",
    "                    \n",
    "            # update data\n",
    "            self.data = data_new\n",
    "            \n",
    "        except Exception as e:\n",
    "            print('error' in data.values())\n",
    "            self.data = []\n",
    "        \n",
    "    def post(self):\n",
    "        \"\"\"\n",
    "        post()\n",
    "        \n",
    "        post method posts data to discord.\n",
    "        \"\"\"\n",
    "        # check if any data exists\n",
    "        if not self.data:\n",
    "            return \n",
    "        \n",
    "        # build message\n",
    "        s = ''\n",
    "        for d in self.data:\n",
    "            amount = float(d['amount_usd'])\n",
    "            s += \"{light_1} {light_2} {light_3} {warning} ```{amount: >12_} {unit: <5} {amount_usd: <20} {f: >15} -> {t: <15}\\n```\".format(\n",
    "                light_1=':rotating_light:' if amount >          0 else '      ',\n",
    "                light_2=':rotating_light:' if amount >  1_000_000 else '      ',\n",
    "                light_3=':rotating_light:' if amount >  5_000_000 else '      ',\n",
    "                warning=':warning:'        if amount > 10_000_000 else '      ',\n",
    "                amount =round(float(d['amount']),1),\n",
    "                unit   =d['symbol'],\n",
    "                amount_usd = '({:_} USD)'.format(round(float(d['amount_usd']),1)),\n",
    "                f = str(d['from']),\n",
    "                t = str(d['to'])\n",
    "            )\n",
    "            \n",
    "        # send to discord\n",
    "        self.webhook.send(s)\n"
   ]
  },
  {
   "cell_type": "code",
   "execution_count": 18,
   "metadata": {},
   "outputs": [],
   "source": [
    "messenger = WhaleAlertMessenger(100)"
   ]
  },
  {
   "cell_type": "code",
   "execution_count": 19,
   "metadata": {},
   "outputs": [
    {
     "name": "stdout",
     "output_type": "stream",
     "text": [
      "True\n"
     ]
    }
   ],
   "source": [
    "messenger.get()"
   ]
  },
  {
   "cell_type": "code",
   "execution_count": null,
   "metadata": {},
   "outputs": [],
   "source": []
  }
 ],
 "metadata": {
  "kernelspec": {
   "display_name": "Python 3",
   "language": "python",
   "name": "python3"
  },
  "language_info": {
   "codemirror_mode": {
    "name": "ipython",
    "version": 3
   },
   "file_extension": ".py",
   "mimetype": "text/x-python",
   "name": "python",
   "nbconvert_exporter": "python",
   "pygments_lexer": "ipython3",
   "version": "3.8.3"
  }
 },
 "nbformat": 4,
 "nbformat_minor": 4
}
